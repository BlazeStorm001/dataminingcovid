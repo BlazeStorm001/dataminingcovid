{
  "nbformat": 4,
  "nbformat_minor": 0,
  "metadata": {
    "colab": {
      "provenance": [],
      "authorship_tag": "ABX9TyM0vmXPm2N60+mZYU30aVe4",
      "include_colab_link": true
    },
    "kernelspec": {
      "name": "python3",
      "display_name": "Python 3"
    },
    "language_info": {
      "name": "python"
    }
  },
  "cells": [
    {
      "cell_type": "markdown",
      "metadata": {
        "id": "view-in-github",
        "colab_type": "text"
      },
      "source": [
        "<a href=\"https://colab.research.google.com/github/BlazeStorm001/dataminingcovid/blob/main/boston.ipynb\" target=\"_parent\"><img src=\"https://colab.research.google.com/assets/colab-badge.svg\" alt=\"Open In Colab\"/></a>"
      ]
    },
    {
      "cell_type": "code",
      "execution_count": 22,
      "metadata": {
        "colab": {
          "base_uri": "https://localhost:8080/"
        },
        "id": "SxhK9MRG8aQs",
        "outputId": "f41d39d2-16c7-4a43-9fc5-b5f023c6b64b"
      },
      "outputs": [
        {
          "output_type": "stream",
          "name": "stdout",
          "text": [
            "   Unnamed: 0     crim    zn  indus  chas    nox     rm   age     dis  rad  \\\n",
            "0           1  0.00632  18.0   2.31     0  0.538  6.575  65.2  4.0900    1   \n",
            "1           2  0.02731   0.0   7.07     0  0.469  6.421  78.9  4.9671    2   \n",
            "2           3  0.02729   0.0   7.07     0  0.469  7.185  61.1  4.9671    2   \n",
            "3           4  0.03237   0.0   2.18     0  0.458  6.998  45.8  6.0622    3   \n",
            "4           5  0.06905   0.0   2.18     0  0.458  7.147  54.2  6.0622    3   \n",
            "\n",
            "   tax  ptratio   black  lstat  medv  \n",
            "0  296     15.3  396.90   4.98  24.0  \n",
            "1  242     17.8  396.90   9.14  21.6  \n",
            "2  242     17.8  392.83   4.03  34.7  \n",
            "3  222     18.7  394.63   2.94  33.4  \n",
            "4  222     18.7  396.90   5.33  36.2  \n",
            "Pearsons correlation for Unnamed: 0 is -0.22660364293534005\n",
            "Pearsons correlation for crim is -0.38830460858681154\n",
            "Pearsons correlation for zn is 0.36044534245054316\n",
            "Pearsons correlation for indus is -0.483725160028373\n",
            "Pearsons correlation for chas is 0.1752601771902984\n",
            "Pearsons correlation for nox is -0.42732077237328253\n",
            "Pearsons correlation for rm is 0.6953599470715394\n",
            "Pearsons correlation for age is -0.3769545650045963\n",
            "Pearsons correlation for dis is 0.2499287340859039\n",
            "Pearsons correlation for rad is -0.3816262306397781\n",
            "Pearsons correlation for tax is -0.4685359335677672\n",
            "Pearsons correlation for ptratio is -0.5077866855375619\n",
            "Pearsons correlation for black is 0.3334608196570664\n",
            "Pearsons correlation for lstat is -0.737662726174015\n",
            "0.737662726174015\n"
          ]
        }
      ],
      "source": [
        "import pandas as pd\n",
        "import numpy as np\n",
        "from scipy.stats import pearsonr\n",
        "url = \"https://drive.google.com/file/d/1f-7wQUYF_7k9e-noUutrS2KQlQqFgPwd/view?usp=sharing\"\n",
        "#data_url = \"http://lib.stat.cmu.edu/datasets/boston\"\n",
        "file_id= url.split('/')[-2]\n",
        "dwn_url = 'https://drive.google.com/uc?id=' + file_id\n",
        "df = pd.read_csv(dwn_url)\n",
        "#show the first five rows\n",
        "print(df.head())\n",
        "# Convert dataframe into series\n",
        "\n",
        "y = df['medv']\n",
        "\n",
        "for x in df.keys():\n",
        "  if x!=\"medv\":\n",
        "    #selects different columns and finds correlation between price(y) and the column (x)\n",
        "    feature = df[x]\n",
        "    # Apply the pearsonr()\n",
        "    corr, _ = pearsonr(feature, y)     \n",
        "    print('Pearsons correlation for ' + str(x) + \" is \" + str(corr))\n",
        "\n",
        "\n",
        "\n",
        " "
      ]
    },
    {
      "cell_type": "code",
      "source": [
        "df2 = pd.read_csv(dwn_url,nrows=450)\n",
        "inputs = df[['rm', 'lstat']]\n",
        "output = df['medv']\n",
        "\n",
        "from sklearn import linear_model\n",
        "regr = linear_model.LinearRegression()\n",
        "regr.fit(inputs, output)\n",
        "print(regr.predict([[7.393, 16.74]]))\n"
      ],
      "metadata": {
        "colab": {
          "base_uri": "https://localhost:8080/"
        },
        "id": "mE7mtQpmQNzz",
        "outputId": "8d76c7da-0fac-415c-ab80-41fbe3a16617"
      },
      "execution_count": 26,
      "outputs": [
        {
          "output_type": "stream",
          "name": "stdout",
          "text": [
            "[25.55441624]\n"
          ]
        },
        {
          "output_type": "stream",
          "name": "stderr",
          "text": [
            "/usr/local/lib/python3.8/dist-packages/sklearn/base.py:450: UserWarning: X does not have valid feature names, but LinearRegression was fitted with feature names\n",
            "  warnings.warn(\n"
          ]
        }
      ]
    }
  ]
}